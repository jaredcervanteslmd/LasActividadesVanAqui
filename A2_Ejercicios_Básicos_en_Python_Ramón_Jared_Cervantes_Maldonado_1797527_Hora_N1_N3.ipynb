{
  "nbformat": 4,
  "nbformat_minor": 0,
  "metadata": {
    "colab": {
      "name": " A2: Ejercicios Básicos en Python Ramón Jared Cervantes Maldonado 1797527 Hora: N1-N3",
      "provenance": [],
      "collapsed_sections": [],
      "toc_visible": true
    },
    "kernelspec": {
      "name": "python3",
      "display_name": "Python 3"
    },
    "language_info": {
      "name": "python"
    }
  },
  "cells": [
    {
      "cell_type": "markdown",
      "source": [
        "A2: Ejercicios Básicos en Python\n",
        "Ramón Jared Cervantes Maldonado\n",
        "1797527\n",
        "Hora: N1-N3 "
      ],
      "metadata": {
        "id": "ENQ8jyH5uoSS"
      }
    },
    {
      "cell_type": "markdown",
      "source": [
        "1.Escribe un programa que le pida al usuario por su nombre y que lo salude con su nombre, excepto si se llama “Ana”, “Juan”, y “Pedro”."
      ],
      "metadata": {
        "id": "M0HILZ0n7X9k"
      }
    },
    {
      "cell_type": "code",
      "source": [
        "name = input (\"Introduce tu nombre:\")\n",
        "if name == (\"Ana:\"):\n",
        "   print(name = input (\"Introduce tu nombre:\"))\n",
        "elif name == (\"Juan\"):\n",
        "       print(name = input (\"Introduce tu nombre:\"))\n",
        "elif name == (\"Pedro\"):\n",
        "       print(name = input (\"Introduce tu nombre:\"))\n",
        "else:\n",
        "  print (\"Hola \" + name + \", como estas?\")"
      ],
      "metadata": {
        "id": "_RCuW47a7boI"
      },
      "execution_count": null,
      "outputs": []
    },
    {
      "cell_type": "markdown",
      "source": [
        "2.Escribe una función que regrese el último elemento de una lista y que revierta el orden de la lista e imprima la lista revertida."
      ],
      "metadata": {
        "id": "B3V7JWlwtKDo"
      }
    },
    {
      "cell_type": "code",
      "source": [
        "mylist = [\"fresas\", \"platano\", \"kiwi\", \"sandia\", \"naranjas\" ]\n",
        "print(mylist [-1])\n",
        "newList = list(reversed(mylist))\n",
        "print(newList)"
      ],
      "metadata": {
        "id": "qVi8gSeetP63"
      },
      "execution_count": null,
      "outputs": []
    },
    {
      "cell_type": "markdown",
      "source": [
        "3.Escribe una función que toma una lista de strings y los imprima línea por línea en un marco rectangular. Por ejemplo, la lista “Hola”, “a”, “todos”, “esto”, “es”, “un”, “marco\"] se imprime:\n",
        "**********\n",
        "* Hola   *\n",
        "* a      *\n",
        "* todos  *\n",
        "* esto   *\n",
        "* es     *\n",
        "* un     *\n",
        "* marco  *\n",
        "**********"
      ],
      "metadata": {
        "id": "VLMrL7ZvtKjX"
      }
    },
    {
      "cell_type": "code",
      "source": [
        "frase = [\"Yo\", \"soy\", \"tu\", \"Padre\"]\n",
        "for x in frase:\n",
        "        print(\"*\"+x +\"*\")"
      ],
      "metadata": {
        "id": "l_lAMhQttQdf"
      },
      "execution_count": null,
      "outputs": []
    }
  ]
}